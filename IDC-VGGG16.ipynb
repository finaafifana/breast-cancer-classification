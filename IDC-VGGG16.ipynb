{
 "cells": [
  {
   "cell_type": "code",
   "execution_count": 3,
   "metadata": {},
   "outputs": [],
   "source": [
    "from numpy.random import seed\n",
    "seed(101)\n",
    "from tensorflow import set_random_seed\n",
    "set_random_seed(101)\n",
    "\n",
    "import pandas as pd\n",
    "import numpy as np\n",
    "\n",
    "\n",
    "import tensorflow as tf\n",
    "from tensorflow import keras\n",
    "from tensorflow.keras.preprocessing.image import ImageDataGenerator\n",
    "from tensorflow.keras.layers import Conv2D, MaxPooling2D\n",
    "from tensorflow.keras.layers import Dense, Dropout, Flatten, Activation\n",
    "from tensorflow.keras.models import Sequential\n",
    "from tensorflow.keras.callbacks import EarlyStopping, ReduceLROnPlateau, ModelCheckpoint\n",
    "from tensorflow.keras.optimizers import Adam\n",
    "\n",
    "import os\n",
    "import cv2\n",
    "\n",
    "from sklearn.utils import shuffle\n",
    "from sklearn.metrics import confusion_matrix\n",
    "from sklearn.model_selection import train_test_split\n",
    "import itertools\n",
    "import shutil\n",
    "import matplotlib.pyplot as plt\n",
    "%matplotlib inline"
   ]
  },
  {
   "cell_type": "code",
   "execution_count": 15,
   "metadata": {},
   "outputs": [],
   "source": [
    "IMAGE_SIZE = 50\n",
    "IMAGE_CHANNELS = 3\n",
    "\n",
    "SAMPLE_SIZE = 25420 # the number of images we use from each of the two classes"
   ]
  },
  {
   "cell_type": "code",
   "execution_count": 5,
   "metadata": {
    "scrolled": true
   },
   "outputs": [
    {
     "data": {
      "text/plain": [
       "['10253',\n",
       " '10254',\n",
       " '10255',\n",
       " '10256',\n",
       " '10257',\n",
       " '10258',\n",
       " '10259',\n",
       " '10260',\n",
       " '10261',\n",
       " '10262',\n",
       " '10264',\n",
       " '10268',\n",
       " '10269',\n",
       " '10272',\n",
       " '10273',\n",
       " '10274',\n",
       " '10275',\n",
       " '10276',\n",
       " '10277',\n",
       " '10278',\n",
       " '10279',\n",
       " '10282',\n",
       " '10285',\n",
       " '10286',\n",
       " '10288',\n",
       " '10290',\n",
       " '10291',\n",
       " '10292',\n",
       " '10293',\n",
       " '10295',\n",
       " '10299',\n",
       " '10300',\n",
       " '10301',\n",
       " '10302',\n",
       " '10303',\n",
       " '10304',\n",
       " '10305',\n",
       " '10306',\n",
       " '10307',\n",
       " '10308',\n",
       " '12241',\n",
       " '12242',\n",
       " '12626',\n",
       " '12748',\n",
       " '12749',\n",
       " '12750',\n",
       " '12751',\n",
       " '12752',\n",
       " '12810',\n",
       " '12811',\n",
       " '12817',\n",
       " '12818',\n",
       " '12819',\n",
       " '12820',\n",
       " '12821',\n",
       " '12822',\n",
       " '12823',\n",
       " '12824',\n",
       " '12826',\n",
       " '12867',\n",
       " '12868',\n",
       " '12869',\n",
       " '12870',\n",
       " '12871',\n",
       " '12872',\n",
       " '12873',\n",
       " '12875',\n",
       " '12876',\n",
       " '12877',\n",
       " '12878',\n",
       " '12879',\n",
       " '12880',\n",
       " '12881',\n",
       " '12882',\n",
       " '12883',\n",
       " '12884',\n",
       " '12886',\n",
       " '12890',\n",
       " '12891',\n",
       " '12892',\n",
       " '12893',\n",
       " '12894',\n",
       " '12895',\n",
       " '12896',\n",
       " '12897',\n",
       " '12898',\n",
       " '12900',\n",
       " '12901',\n",
       " '12905',\n",
       " '12906',\n",
       " '12907',\n",
       " '12908',\n",
       " '12909',\n",
       " '12910',\n",
       " '12911',\n",
       " '12929',\n",
       " '12930',\n",
       " '12931',\n",
       " '12932',\n",
       " '12933',\n",
       " '12934',\n",
       " '12935',\n",
       " '12947',\n",
       " '12948',\n",
       " '12949',\n",
       " '12951',\n",
       " '12954',\n",
       " '12955',\n",
       " '13018',\n",
       " '13019',\n",
       " '13020',\n",
       " '13021',\n",
       " '13022',\n",
       " '13023',\n",
       " '13024',\n",
       " '13025',\n",
       " '13106',\n",
       " '13400',\n",
       " '13401',\n",
       " '13402',\n",
       " '13403',\n",
       " '13404',\n",
       " '13458',\n",
       " '13459',\n",
       " '13460',\n",
       " '13461',\n",
       " '13462',\n",
       " '13591',\n",
       " '13613',\n",
       " '13616',\n",
       " '13617',\n",
       " '13666',\n",
       " '13687',\n",
       " '13688',\n",
       " '13689',\n",
       " '13691',\n",
       " '13692',\n",
       " '13693',\n",
       " '13694',\n",
       " '13916',\n",
       " '14078',\n",
       " '14079',\n",
       " '14081',\n",
       " '14082',\n",
       " '14153',\n",
       " '14154',\n",
       " '14155',\n",
       " '14156',\n",
       " '14157',\n",
       " '14188',\n",
       " '14189',\n",
       " '14190',\n",
       " '14191',\n",
       " '14192',\n",
       " '14209',\n",
       " '14210',\n",
       " '14211',\n",
       " '14212',\n",
       " '14213',\n",
       " '14304',\n",
       " '14305',\n",
       " '14306',\n",
       " '14321',\n",
       " '15471',\n",
       " '15472',\n",
       " '15473',\n",
       " '15510',\n",
       " '15512',\n",
       " '15513',\n",
       " '15514',\n",
       " '15515',\n",
       " '15516',\n",
       " '15632',\n",
       " '15633',\n",
       " '15634',\n",
       " '15839',\n",
       " '15840',\n",
       " '15902',\n",
       " '15903',\n",
       " '16014',\n",
       " '16085',\n",
       " '16165',\n",
       " '16166',\n",
       " '16167',\n",
       " '16531',\n",
       " '16532',\n",
       " '16533',\n",
       " '16534',\n",
       " '16550',\n",
       " '16551',\n",
       " '16552',\n",
       " '16553',\n",
       " '16554',\n",
       " '16555',\n",
       " '16568',\n",
       " '16569',\n",
       " '16570',\n",
       " '16895',\n",
       " '16896',\n",
       " '8863',\n",
       " '8864',\n",
       " '8865',\n",
       " '8867',\n",
       " '8913',\n",
       " '8914',\n",
       " '8916',\n",
       " '8917',\n",
       " '8918',\n",
       " '8950',\n",
       " '8951',\n",
       " '8955',\n",
       " '8956',\n",
       " '8957',\n",
       " '8959',\n",
       " '8974',\n",
       " '8975',\n",
       " '8980',\n",
       " '8984',\n",
       " '9022',\n",
       " '9023',\n",
       " '9029',\n",
       " '9035',\n",
       " '9036',\n",
       " '9037',\n",
       " '9041',\n",
       " '9043',\n",
       " '9044',\n",
       " '9073',\n",
       " '9075',\n",
       " '9076',\n",
       " '9077',\n",
       " '9078',\n",
       " '9081',\n",
       " '9083',\n",
       " '9123',\n",
       " '9124',\n",
       " '9125',\n",
       " '9126',\n",
       " '9135',\n",
       " '9173',\n",
       " '9174',\n",
       " '9175',\n",
       " '9176',\n",
       " '9177',\n",
       " '9178',\n",
       " '9181',\n",
       " '9225',\n",
       " '9226',\n",
       " '9227',\n",
       " '9228',\n",
       " '9250',\n",
       " '9254',\n",
       " '9255',\n",
       " '9256',\n",
       " '9257',\n",
       " '9258',\n",
       " '9259',\n",
       " '9260',\n",
       " '9261',\n",
       " '9262',\n",
       " '9265',\n",
       " '9266',\n",
       " '9267',\n",
       " '9290',\n",
       " '9291',\n",
       " '9319',\n",
       " '9320',\n",
       " '9321',\n",
       " '9322',\n",
       " '9323',\n",
       " '9324',\n",
       " '9325',\n",
       " '9344',\n",
       " '9345',\n",
       " '9346',\n",
       " '9347',\n",
       " '9381',\n",
       " '9382',\n",
       " '9383']"
      ]
     },
     "execution_count": 5,
     "metadata": {},
     "output_type": "execute_result"
    }
   ],
   "source": [
    "os.listdir('D:/fina/IDC_regular_ps50_idx5')"
   ]
  },
  {
   "cell_type": "code",
   "execution_count": 6,
   "metadata": {},
   "outputs": [
    {
     "data": {
      "text/plain": [
       "279"
      ]
     },
     "execution_count": 6,
     "metadata": {},
     "output_type": "execute_result"
    }
   ],
   "source": [
    "# Check the number of patient folders.\n",
    "\n",
    "patients = os.listdir('D:/fina/IDC_regular_ps50_idx5')\n",
    "\n",
    "len(patients)"
   ]
  },
  {
   "cell_type": "code",
   "execution_count": 7,
   "metadata": {
    "scrolled": true
   },
   "outputs": [],
   "source": [
    "# Create a new directory to store all available images\n",
    "all_images_dir = 'breastv4'\n",
    "os.mkdir(all_images_dir)"
   ]
  },
  {
   "cell_type": "code",
   "execution_count": null,
   "metadata": {},
   "outputs": [],
   "source": [
    "# check that the new diectory has been created\n",
    "!cmd"
   ]
  },
  {
   "cell_type": "code",
   "execution_count": 8,
   "metadata": {},
   "outputs": [],
   "source": [
    "# This code copies all images from their seperate folders into the same \n",
    "# folder called all_images_dir.\n",
    "\n",
    "# Create a list with all the patient id numbers.\n",
    "# Each patient id folder has 2 sub folders --> folder 0 and folder 1\n",
    "\n",
    "# Example:\n",
    "    # '10285'\n",
    "        # '0'\n",
    "        # '1'\n",
    "\n",
    "# create a list of all patient id's\n",
    "patient_list = os.listdir('D:/fina/IDC_regular_ps50_idx5')\n",
    "\n",
    "for patient in patient_list:\n",
    "    \n",
    "    path_0 = 'D:/fina/IDC_regular_ps50_idx5/' + str(patient) + '/0'\n",
    "    path_1 = 'D:/fina/IDC_regular_ps50_idx5/' + str(patient) + '/1'\n",
    "\n",
    "\n",
    "    # create a list of all files in folder 0\n",
    "    file_list_0 = os.listdir(path_0)\n",
    "    # create a list of list all file in folder 1\n",
    "    file_list_1 = os.listdir(path_1)\n",
    "\n",
    "    # move the 0 images to all_images_dir\n",
    "    for fname in file_list_0:\n",
    "\n",
    "        # source path to image\n",
    "        src = os.path.join(path_0, fname)\n",
    "        # destination path to image\n",
    "        dst = os.path.join(all_images_dir, fname)\n",
    "        # copy the image from the source to the destination\n",
    "        shutil.copyfile(src, dst)\n",
    "\n",
    "\n",
    "    # move the 1 images to all_images_dir\n",
    "    for fname in file_list_1:\n",
    "\n",
    "        # source path to image\n",
    "        src = os.path.join(path_1, fname)\n",
    "        # destination path to image\n",
    "        dst = os.path.join(all_images_dir, fname)\n",
    "        # copy the image from the source to the destination\n",
    "        shutil.copyfile(src, dst)"
   ]
  },
  {
   "cell_type": "code",
   "execution_count": 9,
   "metadata": {},
   "outputs": [
    {
     "data": {
      "text/plain": [
       "277524"
      ]
     },
     "execution_count": 9,
     "metadata": {},
     "output_type": "execute_result"
    }
   ],
   "source": [
    "# check how many images are in all_images_dir\n",
    "# should be 277,524\n",
    "\n",
    "# size: 2.5GB\n",
    "\n",
    "len(os.listdir('breastv4'))"
   ]
  },
  {
   "cell_type": "code",
   "execution_count": 10,
   "metadata": {},
   "outputs": [
    {
     "data": {
      "text/html": [
       "<div>\n",
       "<style scoped>\n",
       "    .dataframe tbody tr th:only-of-type {\n",
       "        vertical-align: middle;\n",
       "    }\n",
       "\n",
       "    .dataframe tbody tr th {\n",
       "        vertical-align: top;\n",
       "    }\n",
       "\n",
       "    .dataframe thead th {\n",
       "        text-align: right;\n",
       "    }\n",
       "</style>\n",
       "<table border=\"1\" class=\"dataframe\">\n",
       "  <thead>\n",
       "    <tr style=\"text-align: right;\">\n",
       "      <th></th>\n",
       "      <th>image_id</th>\n",
       "    </tr>\n",
       "  </thead>\n",
       "  <tbody>\n",
       "    <tr>\n",
       "      <td>0</td>\n",
       "      <td>10253_idx5_x1001_y1001_class0.png</td>\n",
       "    </tr>\n",
       "    <tr>\n",
       "      <td>1</td>\n",
       "      <td>10253_idx5_x1001_y1051_class0.png</td>\n",
       "    </tr>\n",
       "    <tr>\n",
       "      <td>2</td>\n",
       "      <td>10253_idx5_x1001_y1101_class0.png</td>\n",
       "    </tr>\n",
       "    <tr>\n",
       "      <td>3</td>\n",
       "      <td>10253_idx5_x1001_y1151_class0.png</td>\n",
       "    </tr>\n",
       "    <tr>\n",
       "      <td>4</td>\n",
       "      <td>10253_idx5_x1001_y1201_class0.png</td>\n",
       "    </tr>\n",
       "  </tbody>\n",
       "</table>\n",
       "</div>"
      ],
      "text/plain": [
       "                            image_id\n",
       "0  10253_idx5_x1001_y1001_class0.png\n",
       "1  10253_idx5_x1001_y1051_class0.png\n",
       "2  10253_idx5_x1001_y1101_class0.png\n",
       "3  10253_idx5_x1001_y1151_class0.png\n",
       "4  10253_idx5_x1001_y1201_class0.png"
      ]
     },
     "execution_count": 10,
     "metadata": {},
     "output_type": "execute_result"
    }
   ],
   "source": [
    "image_list = os.listdir('breastv4')\n",
    "\n",
    "df_data = pd.DataFrame(image_list, columns=['image_id'])\n",
    "\n",
    "df_data.head()"
   ]
  },
  {
   "cell_type": "code",
   "execution_count": 11,
   "metadata": {},
   "outputs": [
    {
     "data": {
      "text/html": [
       "<div>\n",
       "<style scoped>\n",
       "    .dataframe tbody tr th:only-of-type {\n",
       "        vertical-align: middle;\n",
       "    }\n",
       "\n",
       "    .dataframe tbody tr th {\n",
       "        vertical-align: top;\n",
       "    }\n",
       "\n",
       "    .dataframe thead th {\n",
       "        text-align: right;\n",
       "    }\n",
       "</style>\n",
       "<table border=\"1\" class=\"dataframe\">\n",
       "  <thead>\n",
       "    <tr style=\"text-align: right;\">\n",
       "      <th></th>\n",
       "      <th>image_id</th>\n",
       "      <th>patient_id</th>\n",
       "      <th>target</th>\n",
       "    </tr>\n",
       "  </thead>\n",
       "  <tbody>\n",
       "    <tr>\n",
       "      <td>0</td>\n",
       "      <td>10253_idx5_x1001_y1001_class0.png</td>\n",
       "      <td>10253</td>\n",
       "      <td>0</td>\n",
       "    </tr>\n",
       "    <tr>\n",
       "      <td>1</td>\n",
       "      <td>10253_idx5_x1001_y1051_class0.png</td>\n",
       "      <td>10253</td>\n",
       "      <td>0</td>\n",
       "    </tr>\n",
       "    <tr>\n",
       "      <td>2</td>\n",
       "      <td>10253_idx5_x1001_y1101_class0.png</td>\n",
       "      <td>10253</td>\n",
       "      <td>0</td>\n",
       "    </tr>\n",
       "    <tr>\n",
       "      <td>3</td>\n",
       "      <td>10253_idx5_x1001_y1151_class0.png</td>\n",
       "      <td>10253</td>\n",
       "      <td>0</td>\n",
       "    </tr>\n",
       "    <tr>\n",
       "      <td>4</td>\n",
       "      <td>10253_idx5_x1001_y1201_class0.png</td>\n",
       "      <td>10253</td>\n",
       "      <td>0</td>\n",
       "    </tr>\n",
       "    <tr>\n",
       "      <td>5</td>\n",
       "      <td>10253_idx5_x1001_y1251_class0.png</td>\n",
       "      <td>10253</td>\n",
       "      <td>0</td>\n",
       "    </tr>\n",
       "    <tr>\n",
       "      <td>6</td>\n",
       "      <td>10253_idx5_x1001_y1301_class0.png</td>\n",
       "      <td>10253</td>\n",
       "      <td>0</td>\n",
       "    </tr>\n",
       "    <tr>\n",
       "      <td>7</td>\n",
       "      <td>10253_idx5_x1001_y1351_class0.png</td>\n",
       "      <td>10253</td>\n",
       "      <td>0</td>\n",
       "    </tr>\n",
       "    <tr>\n",
       "      <td>8</td>\n",
       "      <td>10253_idx5_x1001_y1501_class0.png</td>\n",
       "      <td>10253</td>\n",
       "      <td>0</td>\n",
       "    </tr>\n",
       "    <tr>\n",
       "      <td>9</td>\n",
       "      <td>10253_idx5_x1001_y1551_class0.png</td>\n",
       "      <td>10253</td>\n",
       "      <td>0</td>\n",
       "    </tr>\n",
       "  </tbody>\n",
       "</table>\n",
       "</div>"
      ],
      "text/plain": [
       "                            image_id patient_id target\n",
       "0  10253_idx5_x1001_y1001_class0.png      10253      0\n",
       "1  10253_idx5_x1001_y1051_class0.png      10253      0\n",
       "2  10253_idx5_x1001_y1101_class0.png      10253      0\n",
       "3  10253_idx5_x1001_y1151_class0.png      10253      0\n",
       "4  10253_idx5_x1001_y1201_class0.png      10253      0\n",
       "5  10253_idx5_x1001_y1251_class0.png      10253      0\n",
       "6  10253_idx5_x1001_y1301_class0.png      10253      0\n",
       "7  10253_idx5_x1001_y1351_class0.png      10253      0\n",
       "8  10253_idx5_x1001_y1501_class0.png      10253      0\n",
       "9  10253_idx5_x1001_y1551_class0.png      10253      0"
      ]
     },
     "execution_count": 11,
     "metadata": {},
     "output_type": "execute_result"
    }
   ],
   "source": [
    "# Define Helper Functions\n",
    "\n",
    "# Each file name has this format:\n",
    "# '14211_idx5_x2401_y1301_class1.png'\n",
    "\n",
    "def extract_patient_id(x):\n",
    "    # split into a list\n",
    "    a = x.split('_')\n",
    "    # the id is the first index in the list\n",
    "    patient_id = a[0]\n",
    "    \n",
    "    return patient_id\n",
    "\n",
    "def extract_target(x):\n",
    "    # split into a list\n",
    "    a = x.split('_')\n",
    "    # the target is part of the string in index 4\n",
    "    b = a[4]\n",
    "    # the ytarget i.e. 1 or 2 is the 5th index of the string --> class1\n",
    "    target = b[5]\n",
    "    \n",
    "    return target\n",
    "\n",
    "# extract the patient id\n",
    "\n",
    "# create a new column called 'patient_id'\n",
    "df_data['patient_id'] = df_data['image_id'].apply(extract_patient_id)\n",
    "# create a new column called 'target'\n",
    "df_data['target'] = df_data['image_id'].apply(extract_target)\n",
    "\n",
    "df_data.head(10)"
   ]
  },
  {
   "cell_type": "code",
   "execution_count": 12,
   "metadata": {},
   "outputs": [
    {
     "data": {
      "text/plain": [
       "(277524, 3)"
      ]
     },
     "execution_count": 12,
     "metadata": {},
     "output_type": "execute_result"
    }
   ],
   "source": [
    "df_data.shape"
   ]
  },
  {
   "cell_type": "code",
   "execution_count": 13,
   "metadata": {},
   "outputs": [],
   "source": [
    "IMAGE_PATH = 'breastv4/'"
   ]
  },
  {
   "cell_type": "code",
   "execution_count": 14,
   "metadata": {},
   "outputs": [
    {
     "data": {
      "text/plain": [
       "0    198738\n",
       "1     78786\n",
       "Name: target, dtype: int64"
      ]
     },
     "execution_count": 14,
     "metadata": {},
     "output_type": "execute_result"
    }
   ],
   "source": [
    "# What is the class distribution?\n",
    "\n",
    "df_data['target'].value_counts()"
   ]
  },
  {
   "cell_type": "code",
   "execution_count": 16,
   "metadata": {},
   "outputs": [
    {
     "data": {
      "text/plain": [
       "0    25420\n",
       "1    25420\n",
       "Name: target, dtype: int64"
      ]
     },
     "execution_count": 16,
     "metadata": {},
     "output_type": "execute_result"
    }
   ],
   "source": [
    "# take a sample of the majority class 0 (total = 198738)\n",
    "df_0 = df_data[df_data['target'] == '0'].sample(SAMPLE_SIZE, random_state=101)\n",
    "# take a sample of class 1 (total = 78786)\n",
    "df_1 = df_data[df_data['target'] == '1'].sample(SAMPLE_SIZE, random_state=101)\n",
    "\n",
    "# concat the two dataframes\n",
    "df_data = pd.concat([df_0, df_1], axis=0).reset_index(drop=True)\n",
    "\n",
    "# Check the new class distribution\n",
    "df_data['target'].value_counts()"
   ]
  },
  {
   "cell_type": "code",
   "execution_count": 17,
   "metadata": {},
   "outputs": [
    {
     "name": "stdout",
     "output_type": "stream",
     "text": [
      "(45756, 3)\n",
      "(5084, 3)\n"
     ]
    }
   ],
   "source": [
    "# train_test_split\n",
    "\n",
    "# stratify=y creates a ba 8lanced validation set.\n",
    "y = df_data['target']\n",
    "\n",
    "df_train, df_val = train_test_split(df_data, test_size=0.10, random_state=101, stratify=y)\n",
    "\n",
    "print(df_train.shape)\n",
    "print(df_val.shape)"
   ]
  },
  {
   "cell_type": "code",
   "execution_count": 18,
   "metadata": {},
   "outputs": [
    {
     "data": {
      "text/plain": [
       "0    22878\n",
       "1    22878\n",
       "Name: target, dtype: int64"
      ]
     },
     "execution_count": 18,
     "metadata": {},
     "output_type": "execute_result"
    }
   ],
   "source": [
    "df_train['target'].value_counts()"
   ]
  },
  {
   "cell_type": "code",
   "execution_count": 19,
   "metadata": {},
   "outputs": [
    {
     "data": {
      "text/plain": [
       "0    2542\n",
       "1    2542\n",
       "Name: target, dtype: int64"
      ]
     },
     "execution_count": 19,
     "metadata": {},
     "output_type": "execute_result"
    }
   ],
   "source": [
    "df_val['target'].value_counts()"
   ]
  },
  {
   "cell_type": "code",
   "execution_count": 20,
   "metadata": {},
   "outputs": [],
   "source": [
    "# Create a new directory\n",
    "base_dir = 'base_dir'\n",
    "os.mkdir(base_dir)\n",
    "\n",
    "\n",
    "#[CREATE FOLDERS INSIDE THE BASE DIRECTORY]\n",
    "\n",
    "# now we create 2 folders inside 'base_dir':\n",
    "\n",
    "# train_dir\n",
    "    # a_no_idc\n",
    "    # b_has_idc\n",
    "\n",
    "# val_dir\n",
    "    # a_no_idc\n",
    "    # b_has_idc\n",
    "\n",
    "\n",
    "\n",
    "# create a path to 'base_dir' to which we will join the names of the new folders\n",
    "# train_dir\n",
    "train_dir = os.path.join(base_dir, 'train_dir')\n",
    "os.mkdir(train_dir)\n",
    "\n",
    "# val_dir\n",
    "val_dir = os.path.join(base_dir, 'val_dir')\n",
    "os.mkdir(val_dir)\n",
    "\n",
    "\n",
    "# [CREATE FOLDERS INSIDE THE TRAIN AND VALIDATION FOLDERS]\n",
    "# Inside each folder we create seperate folders for each class\n",
    "\n",
    "# create new folders inside train_dir\n",
    "a_no_idc = os.path.join(train_dir, 'a_no_idc')\n",
    "os.mkdir(a_no_idc)\n",
    "b_has_idc = os.path.join(train_dir, 'b_has_idc')\n",
    "os.mkdir(b_has_idc)\n",
    "\n",
    "\n",
    "# create new folders inside val_dir\n",
    "a_no_idc = os.path.join(val_dir, 'a_no_idc')\n",
    "os.mkdir(a_no_idc)\n",
    "b_has_idc = os.path.join(val_dir, 'b_has_idc')\n",
    "os.mkdir(b_has_idc)"
   ]
  },
  {
   "cell_type": "code",
   "execution_count": 21,
   "metadata": {},
   "outputs": [
    {
     "data": {
      "text/plain": [
       "['a_no_idc', 'b_has_idc']"
      ]
     },
     "execution_count": 21,
     "metadata": {},
     "output_type": "execute_result"
    }
   ],
   "source": [
    "# check that the folders have been created\n",
    "os.listdir('base_dir/train_dir')"
   ]
  },
  {
   "cell_type": "code",
   "execution_count": 22,
   "metadata": {},
   "outputs": [],
   "source": [
    "# Set the id as the index in df_data\n",
    "df_data.set_index('image_id', inplace=True)"
   ]
  },
  {
   "cell_type": "code",
   "execution_count": 23,
   "metadata": {},
   "outputs": [],
   "source": [
    "# Get a list of train and val images\n",
    "train_list = list(df_train['image_id'])\n",
    "val_list = list(df_val['image_id'])\n",
    "\n",
    "\n",
    "\n",
    "# Transfer the train images\n",
    "\n",
    "for image in train_list:\n",
    "    \n",
    "    # the id in the csv file does not have the .tif extension therefore we add it here\n",
    "    fname = image\n",
    "    # get the label for a certain image\n",
    "    target = df_data.loc[image,'target']\n",
    "    \n",
    "    # these must match the folder names\n",
    "    if target == '0':\n",
    "        label = 'a_no_idc'\n",
    "    if target == '1':\n",
    "        label = 'b_has_idc'\n",
    "    \n",
    "    # source path to image\n",
    "    src = os.path.join(all_images_dir, fname)\n",
    "    # destination path to image\n",
    "    dst = os.path.join(train_dir, label, fname)\n",
    "    # move the image from the source to the destination\n",
    "    shutil.move(src, dst)\n",
    "    \n",
    "\n",
    "# Transfer the val images\n",
    "\n",
    "for image in val_list:\n",
    "    \n",
    "    # the id in the csv file does not have the .tif extension therefore we add it here\n",
    "    fname = image\n",
    "    # get the label for a certain image\n",
    "    target = df_data.loc[image,'target']\n",
    "    \n",
    "    # these must match the folder names\n",
    "    if target == '0':\n",
    "        label = 'a_no_idc'\n",
    "    if target == '1':\n",
    "        label = 'b_has_idc'\n",
    "    \n",
    "\n",
    "    # source path to image\n",
    "    src = os.path.join(all_images_dir, fname)\n",
    "    # destination path to image\n",
    "    dst = os.path.join(val_dir, label, fname)\n",
    "    # move the image from the source to the destination\n",
    "    shutil.move(src, dst)\n"
   ]
  },
  {
   "cell_type": "code",
   "execution_count": 24,
   "metadata": {},
   "outputs": [
    {
     "name": "stdout",
     "output_type": "stream",
     "text": [
      "22878\n",
      "22878\n"
     ]
    }
   ],
   "source": [
    "# check how many train images we have in each folder\n",
    "\n",
    "print(len(os.listdir('base_dir/train_dir/a_no_idc')))\n",
    "print(len(os.listdir('base_dir/train_dir/b_has_idc')))"
   ]
  },
  {
   "cell_type": "code",
   "execution_count": 25,
   "metadata": {},
   "outputs": [
    {
     "name": "stdout",
     "output_type": "stream",
     "text": [
      "2542\n",
      "2542\n"
     ]
    }
   ],
   "source": [
    "# check how many val images we have in each folder\n",
    "\n",
    "print(len(os.listdir('base_dir/val_dir/a_no_idc')))\n",
    "print(len(os.listdir('base_dir/val_dir/b_has_idc')))"
   ]
  },
  {
   "cell_type": "code",
   "execution_count": 48,
   "metadata": {},
   "outputs": [],
   "source": [
    "# End of Data Preparation\n",
    "### ================================================================================== ###\n",
    "# Start of Model Building"
   ]
  },
  {
   "cell_type": "code",
   "execution_count": 26,
   "metadata": {},
   "outputs": [],
   "source": [
    "train_path = 'base_dir/train_dir'\n",
    "valid_path = 'base_dir/val_dir'\n",
    "\n",
    "\n",
    "# num_train_samples = len(df_train)\n",
    "# num_val_samples = len(df_val)\n",
    "train_batch_size = 64\n",
    "val_batch_size = 64\n",
    "\n",
    "\n",
    "train_steps = 128\n",
    "val_steps = 128"
   ]
  },
  {
   "cell_type": "code",
   "execution_count": 28,
   "metadata": {},
   "outputs": [
    {
     "name": "stdout",
     "output_type": "stream",
     "text": [
      "Found 45756 images belonging to 2 classes.\n",
      "Found 5084 images belonging to 2 classes.\n",
      "Found 5084 images belonging to 2 classes.\n"
     ]
    }
   ],
   "source": [
    "datagen = ImageDataGenerator(rescale=1.0/255,\n",
    "                             shear_range = 0.2,\n",
    "                             zoom_range=0.2,\n",
    "                             horizontal_flip=True,\n",
    "                             vertical_flip=True,\n",
    "                             rotation_range=20,\n",
    "                             width_shift_range=0.2,\n",
    "                             height_shift_range=0.2)\n",
    "\n",
    "train_gen = datagen.flow_from_directory(train_path,\n",
    "                                        target_size=(IMAGE_SIZE,IMAGE_SIZE),\n",
    "                                        batch_size=train_batch_size,\n",
    "                                        class_mode='categorical')\n",
    "\n",
    "val_gen = datagen.flow_from_directory(valid_path,\n",
    "                                        target_size=(IMAGE_SIZE,IMAGE_SIZE),\n",
    "                                        batch_size=val_batch_size,\n",
    "                                        class_mode='categorical')\n",
    "\n",
    "# Note: shuffle=False causes the test dataset to not be shuffled\n",
    "test_gen = datagen.flow_from_directory(valid_path,\n",
    "                                        target_size=(IMAGE_SIZE,IMAGE_SIZE),\n",
    "                                        batch_size=1,\n",
    "                                        class_mode='categorical',\n",
    "                                        shuffle=False)"
   ]
  },
  {
   "cell_type": "code",
   "execution_count": 33,
   "metadata": {},
   "outputs": [
    {
     "name": "stdout",
     "output_type": "stream",
     "text": [
      "Model: \"sequential_2\"\n",
      "_________________________________________________________________\n",
      "Layer (type)                 Output Shape              Param #   \n",
      "=================================================================\n",
      "conv2d_3 (Conv2D)            (None, 48, 48, 64)        1792      \n",
      "_________________________________________________________________\n",
      "conv2d_4 (Conv2D)            (None, 46, 46, 64)        36928     \n",
      "_________________________________________________________________\n",
      "max_pooling2d_2 (MaxPooling2 (None, 23, 23, 64)        0         \n",
      "_________________________________________________________________\n",
      "conv2d_5 (Conv2D)            (None, 21, 21, 32)        18464     \n",
      "_________________________________________________________________\n",
      "max_pooling2d_3 (MaxPooling2 (None, 10, 10, 32)        0         \n",
      "_________________________________________________________________\n",
      "dropout_2 (Dropout)          (None, 10, 10, 32)        0         \n",
      "_________________________________________________________________\n",
      "flatten_1 (Flatten)          (None, 3200)              0         \n",
      "_________________________________________________________________\n",
      "dense_2 (Dense)              (None, 256)               819456    \n",
      "_________________________________________________________________\n",
      "dropout_3 (Dropout)          (None, 256)               0         \n",
      "_________________________________________________________________\n",
      "dense_3 (Dense)              (None, 2)                 514       \n",
      "=================================================================\n",
      "Total params: 877,154\n",
      "Trainable params: 877,154\n",
      "Non-trainable params: 0\n",
      "_________________________________________________________________\n"
     ]
    }
   ],
   "source": [
    "#This is a Convolutional Artificial Neural Network\n",
    "#VGG16 Model\n",
    "model = Sequential()\n",
    "model.add(ZeroPadding2D((1,1),input_shape=train_batches.image_shape))\n",
    "model.add(Conv2D(64, (3, 3), activation='relu'))\n",
    "model.add(ZeroPadding2D((1,1)))\n",
    "model.add(Conv2D(64, (3, 3), activation='relu'))\n",
    "model.add(MaxPooling2D((2,2), strides=(2,2)))\n",
    "\n",
    "model.add(ZeroPadding2D((1,1)))\n",
    "model.add(Conv2D(128, (3, 3), activation='relu'))\n",
    "model.add(ZeroPadding2D((1,1)))\n",
    "model.add(Conv2D(128, (3, 3), activation='relu'))\n",
    "model.add(MaxPooling2D((2,2), strides=(2,2)))\n",
    "\n",
    "model.add(ZeroPadding2D((1,1)))\n",
    "model.add(Conv2D(256, (3, 3), activation='relu'))\n",
    "model.add(ZeroPadding2D((1,1)))\n",
    "model.add(Conv2D(256, (3, 3), activation='relu'))\n",
    "model.add(ZeroPadding2D((1,1)))\n",
    "model.add(Conv2D(256, (3, 3), activation='relu'))\n",
    "model.add(MaxPooling2D((2,2), strides=(2,2)))\n",
    "\n",
    "model.add(ZeroPadding2D((1,1)))\n",
    "model.add(Conv2D(512, (3, 3), activation='relu'))\n",
    "model.add(ZeroPadding2D((1,1)))\n",
    "model.add(Conv2D(512, (3, 3), activation='relu'))\n",
    "model.add(ZeroPadding2D((1,1)))\n",
    "model.add(Conv2D(512, (3, 3), activation='relu'))\n",
    "model.add(MaxPooling2D((2,2), strides=(2,2)))\n",
    "\n",
    "model.add(ZeroPadding2D((1,1)))\n",
    "model.add(Conv2D(512, (3, 3), activation='relu'))\n",
    "model.add(ZeroPadding2D((1,1)))\n",
    "model.add(Conv2D(512, (3, 3), activation='relu'))\n",
    "model.add(ZeroPadding2D((1,1)))\n",
    "model.add(Conv2D(512, (3, 3), activation='relu'))\n",
    "model.add(MaxPooling2D((2,2), strides=(2,2)))\n",
    "\n",
    "model.add(Flatten())\n",
    "model.add(Dense(4096, activation='relu'))\n",
    "model.add(Dropout(0.5))\n",
    "model.add(Dense(4096, activation='relu'))\n",
    "model.add(Dropout(0.5))\n",
    "model.add(Dense(2, activation='softmax'))"
   ]
  },
  {
   "cell_type": "code",
   "execution_count": 34,
   "metadata": {},
   "outputs": [],
   "source": [
    "model.compile(Adam(lr=0.001, momentum=0.9), loss='binary_crossentropy', \n",
    "              metrics=['accuracy'])"
   ]
  },
  {
   "cell_type": "code",
   "execution_count": 35,
   "metadata": {},
   "outputs": [
    {
     "name": "stdout",
     "output_type": "stream",
     "text": [
      "Epoch 1/60\n",
      "WARNING:tensorflow:From C:\\Users\\user\\Anaconda3\\lib\\site-packages\\tensorflow_core\\python\\ops\\math_grad.py:1424: where (from tensorflow.python.ops.array_ops) is deprecated and will be removed in a future version.\n",
      "Instructions for updating:\n",
      "Use tf.where in 2.0, which has the same broadcast rule as np.where\n",
      "4574/4576 [============================>.] - ETA: 0s - loss: 0.4810 - acc: 0.7768Epoch 1/60\n",
      " 509/4576 [==>...........................] - ETA: 1:11 - loss: 0.4426 - acc: 0.8021\n",
      "Epoch 00001: val_acc improved from -inf to 0.80212, saving model to model.h5\n",
      "4576/4576 [==============================] - 202s 44ms/step - loss: 0.4809 - acc: 0.7768 - val_loss: 0.4426 - val_acc: 0.8021\n",
      "Epoch 2/60\n",
      "4575/4576 [============================>.] - ETA: 0s - loss: 0.4363 - acc: 0.8072- ETA: 2s - loss: 0.4362 - acc: 0.807 - ETA: 2s - loss: 0.4361 - acc: - ETA: 2s - loss:Epoch 1/60\n",
      " 507/4576 [==>...........................] - ETA: 1:05 - loss: 0.4537 - acc: 0.7986- ETA: 1:15 - l\n",
      "Epoch 00002: val_acc did not improve from 0.80212\n",
      "4576/4576 [==============================] - 228s 50ms/step - loss: 0.4363 - acc: 0.8072 - val_loss: 0.4533 - val_acc: 0.7986\n",
      "Epoch 3/60\n",
      "4575/4576 [============================>.] - ETA: 0s - loss: 0.4125 - acc: 0.8214Epoch 1/60\n",
      " 507/4576 [==>...........................] - ETA: 1:08 - loss: 0.4078 - acc: 0.8264\n",
      "Epoch 00003: val_acc improved from 0.80212 to 0.82671, saving model to model.h5\n",
      "4576/4576 [==============================] - 207s 45ms/step - loss: 0.4124 - acc: 0.8214 - val_loss: 0.4074 - val_acc: 0.8267\n",
      "Epoch 4/60\n",
      "4575/4576 [============================>.] - ETA: 0s - loss: 0.4016 - acc: 0.8281- ETA: 2s -Epoch 1/60\n",
      " 506/4576 [==>...........................] - ETA: 1:05 - loss: 0.4125 - acc: 0.8223\n",
      "Epoch 00004: val_acc did not improve from 0.82671\n",
      "4576/4576 [==============================] - 205s 45ms/step - loss: 0.4016 - acc: 0.8281 - val_loss: 0.4135 - val_acc: 0.8220\n",
      "Epoch 5/60\n",
      "4574/4576 [============================>.] - ETA: 0s - loss: 0.3913 - acc: 0.8335Epoch 1/60\n",
      " 508/4576 [==>...........................] - ETA: 1:07 - loss: 0.4086 - acc: 0.8222\n",
      "Epoch 00005: val_acc did not improve from 0.82671\n",
      "4576/4576 [==============================] - 196s 43ms/step - loss: 0.3913 - acc: 0.8336 - val_loss: 0.4084 - val_acc: 0.8224\n",
      "Epoch 6/60\n",
      "4575/4576 [============================>.] - ETA: 0s - loss: 0.3854 - acc: 0.8349Epoch 1/60\n",
      " 507/4576 [==>...........................] - ETA: 1:21 - loss: 0.3867 - acc: 0.8331\n",
      "Epoch 00006: val_acc improved from 0.82671 to 0.83340, saving model to model.h5\n",
      "4576/4576 [==============================] - 206s 45ms/step - loss: 0.3854 - acc: 0.8349 - val_loss: 0.3865 - val_acc: 0.8334\n",
      "Epoch 7/60\n",
      "4575/4576 [============================>.] - ETA: 0s - loss: 0.3800 - acc: 0.8367Epoch 1/60\n",
      " 508/4576 [==>...........................] - ETA: 1:12 - loss: 0.3908 - acc: 0.8276\n",
      "Epoch 00007: val_acc did not improve from 0.83340\n",
      "4576/4576 [==============================] - 203s 44ms/step - loss: 0.3801 - acc: 0.8367 - val_loss: 0.3904 - val_acc: 0.8277\n",
      "Epoch 8/60\n",
      "4575/4576 [============================>.] - ETA: 0s - loss: 0.3776 - acc: 0.8386Epoch 1/60\n",
      " 506/4576 [==>...........................] - ETA: 1:12 - loss: 0.3757 - acc: 0.8381\n",
      "Epoch 00008: val_acc improved from 0.83340 to 0.83773, saving model to model.h5\n",
      "4576/4576 [==============================] - 205s 45ms/step - loss: 0.3775 - acc: 0.8386 - val_loss: 0.3768 - val_acc: 0.8377\n",
      "Epoch 9/60\n",
      "4574/4576 [============================>.] - ETA: 0s - loss: 0.3757 - acc: 0.8396Epoch 1/60\n",
      " 509/4576 [==>...........................] - ETA: 1:26 - loss: 0.3804 - acc: 0.8369\n",
      "Epoch 00009: val_acc did not improve from 0.83773\n",
      "4576/4576 [==============================] - 223s 49ms/step - loss: 0.3758 - acc: 0.8396 - val_loss: 0.3804 - val_acc: 0.8369\n",
      "Epoch 10/60\n",
      "4575/4576 [============================>.] - ETA: 0s - loss: 0.3712 - acc: 0.8411Epoch 1/60\n",
      " 506/4576 [==>...........................] - ETA: 1:06 - loss: 0.3839 - acc: 0.8368- ETA: 1:06 - loss: 0.3843 - acc:\n",
      "Epoch 00010: val_acc did not improve from 0.83773\n",
      "4576/4576 [==============================] - 214s 47ms/step - loss: 0.3711 - acc: 0.8411 - val_loss: 0.3848 - val_acc: 0.8362\n",
      "Epoch 11/60\n",
      "4574/4576 [============================>.] - ETA: 0s - loss: 0.3685 - acc: 0.8418Epoch 1/60\n",
      " 509/4576 [==>...........................] - ETA: 1:07 - loss: 0.3795 - acc: 0.8377\n",
      "Epoch 00011: val_acc did not improve from 0.83773\n",
      "\n",
      "Epoch 00011: ReduceLROnPlateau reducing learning rate to 4.999999873689376e-05.\n",
      "4576/4576 [==============================] - 222s 48ms/step - loss: 0.3685 - acc: 0.8418 - val_loss: 0.3795 - val_acc: 0.8377\n",
      "Epoch 12/60\n",
      "4574/4576 [============================>.] - ETA: 0s - loss: 0.3566 - acc: 0.8458Epoch 1/60\n",
      " 506/4576 [==>...........................] - ETA: 1:18 - loss: 0.3593 - acc: 0.845 - ETA: 1:18 - loss: 0.3602 - acc: 0.8457\n",
      "Epoch 00012: val_acc improved from 0.83773 to 0.84520, saving model to model.h5\n",
      "4576/4576 [==============================] - 232s 51ms/step - loss: 0.3567 - acc: 0.8458 - val_loss: 0.3609 - val_acc: 0.8452\n",
      "Epoch 13/60\n",
      "4574/4576 [============================>.] - ETA: 0s - loss: 0.3542 - acc: 0.8477Epoch 1/60\n",
      " 509/4576 [==>...........................] - ETA: 1:07 - loss: 0.3686 - acc: 0.8383\n",
      "Epoch 00013: val_acc did not improve from 0.84520\n",
      "4576/4576 [==============================] - 208s 45ms/step - loss: 0.3542 - acc: 0.8478 - val_loss: 0.3686 - val_acc: 0.8383\n",
      "Epoch 14/60\n",
      "4574/4576 [============================>.] - ETA: 0s - loss: 0.3526 - acc: 0.8501Epoch 1/60\n",
      " 507/4576 [==>...........................] - ETA: 1:16 - loss: 0.3730 - acc: 0.8393\n",
      "Epoch 00014: val_acc did not improve from 0.84520\n",
      "4576/4576 [==============================] - 205s 45ms/step - loss: 0.3526 - acc: 0.8501 - val_loss: 0.3723 - val_acc: 0.8395\n",
      "Epoch 15/60\n",
      "4574/4576 [============================>.] - ETA: 0s - loss: 0.3500 - acc: 0.8518Epoch 1/60\n",
      " 507/4576 [==>...........................] - ETA: 1:14 - loss: 0.3692 - acc: 0.8406\n",
      "Epoch 00015: val_acc did not improve from 0.84520\n",
      "\n",
      "Epoch 00015: ReduceLROnPlateau reducing learning rate to 2.499999936844688e-05.\n",
      "4576/4576 [==============================] - 201s 44ms/step - loss: 0.3499 - acc: 0.8518 - val_loss: 0.3686 - val_acc: 0.8409\n",
      "Epoch 16/60\n",
      "4575/4576 [============================>.] - ETA: 0s - loss: 0.3430 - acc: 0.8545Epoch 1/60\n",
      " 507/4576 [==>...........................] - ETA: 1:12 - loss: 0.3523 - acc: 0.8491- ETA: 1: - ETA: 1:12 - loss: 0.3503 - acc: 0.850\n",
      "Epoch 00016: val_acc improved from 0.84520 to 0.84933, saving model to model.h5\n",
      "4576/4576 [==============================] - 197s 43ms/step - loss: 0.3431 - acc: 0.8545 - val_loss: 0.3518 - val_acc: 0.8493\n",
      "Epoch 17/60\n",
      "4575/4576 [============================>.] - ETA: 0s - loss: 0.3422 - acc: 0.8547Epoch 1/60\n",
      " 507/4576 [==>...........................] - ETA: 1:06 - loss: 0.3506 - acc: 0.8542- ETA: 1:07 - loss: 0.3496 -\n",
      "Epoch 00017: val_acc improved from 0.84933 to 0.85445, saving model to model.h5\n",
      "4576/4576 [==============================] - 208s 45ms/step - loss: 0.3421 - acc: 0.8548 - val_loss: 0.3503 - val_acc: 0.8544\n",
      "Epoch 18/60\n",
      "4574/4576 [============================>.] - ETA: 0s - loss: 0.3396 - acc: 0.8559Epoch 1/60\n",
      " 508/4576 [==>...........................] - ETA: 1:07 - loss: 0.3467 - acc: 0.8541\n",
      "Epoch 00018: val_acc did not improve from 0.85445\n",
      "4576/4576 [==============================] - 211s 46ms/step - loss: 0.3395 - acc: 0.8559 - val_loss: 0.3464 - val_acc: 0.8542\n",
      "Epoch 19/60\n",
      "4575/4576 [============================>.] - ETA: 0s - loss: 0.3410 - acc: 0.8548Epoch 1/60\n",
      " 509/4576 [==>...........................] - ETA: 1:05 - loss: 0.3515 - acc: 0.8495\n",
      "Epoch 00019: val_acc did not improve from 0.85445\n",
      "4576/4576 [==============================] - 210s 46ms/step - loss: 0.3410 - acc: 0.8549 - val_loss: 0.3515 - val_acc: 0.8495\n",
      "Epoch 20/60\n",
      "4574/4576 [============================>.] - ETA: 0s - loss: 0.3378 - acc: 0.8560Epoch 1/60\n",
      " 506/4576 [==>...........................] - ETA: 1:06 - loss: 0.3701 - acc: 0.8381\n",
      "Epoch 00020: val_acc did not improve from 0.85445\n",
      "\n",
      "Epoch 00020: ReduceLROnPlateau reducing learning rate to 1.249999968422344e-05.\n",
      "4576/4576 [==============================] - 220s 48ms/step - loss: 0.3378 - acc: 0.8560 - val_loss: 0.3705 - val_acc: 0.8379\n"
     ]
    },
    {
     "name": "stdout",
     "output_type": "stream",
     "text": [
      "Epoch 21/60\n",
      "4575/4576 [============================>.] - ETA: 0s - loss: 0.3334 - acc: 0.8580- ETA: 1s - loss: 0.33Epoch 1/60\n",
      " 509/4576 [==>...........................] - ETA: 1:22 - loss: 0.3418 - acc: 0.8519\n",
      "Epoch 00021: val_acc did not improve from 0.85445\n",
      "4576/4576 [==============================] - 214s 47ms/step - loss: 0.3335 - acc: 0.8579 - val_loss: 0.3418 - val_acc: 0.8519\n",
      "Epoch 22/60\n",
      "4575/4576 [============================>.] - ETA: 0s - loss: 0.3323 - acc: 0.8588Epoch 1/60\n",
      " 508/4576 [==>...........................] - ETA: 1:12 - loss: 0.3460 - acc: 0.8522\n",
      "Epoch 00022: val_acc did not improve from 0.85445\n",
      "4576/4576 [==============================] - 211s 46ms/step - loss: 0.3323 - acc: 0.8588 - val_loss: 0.3455 - val_acc: 0.8523\n",
      "Epoch 23/60\n",
      "4575/4576 [============================>.] - ETA: 0s - loss: 0.3321 - acc: 0.8588Epoch 1/60\n",
      " 507/4576 [==>...........................] - ETA: 1:24 - loss: 0.3467 - acc: 0.8550\n",
      "Epoch 00023: val_acc improved from 0.85445 to 0.85523, saving model to model.h5\n",
      "4576/4576 [==============================] - 220s 48ms/step - loss: 0.3321 - acc: 0.8588 - val_loss: 0.3460 - val_acc: 0.8552\n",
      "Epoch 24/60\n",
      "4575/4576 [============================>.] - ETA: 0s - loss: 0.3338 - acc: 0.8572Epoch 1/60\n",
      " 507/4576 [==>...........................] - ETA: 1:13 - loss: 0.3476 - acc: 0.8556- ETA: 1:14 - loss: 0.3451\n",
      "Epoch 00024: val_acc improved from 0.85523 to 0.85582, saving model to model.h5\n",
      "4576/4576 [==============================] - 208s 46ms/step - loss: 0.3337 - acc: 0.8572 - val_loss: 0.3473 - val_acc: 0.8558\n",
      "Epoch 25/60\n",
      "4574/4576 [============================>.] - ETA: 0s - loss: 0.3316 - acc: 0.8576Epoch 1/60\n",
      " 506/4576 [==>...........................] - ETA: 1:25 - loss: 0.3363 - acc: 0.8555\n",
      "Epoch 00025: val_acc did not improve from 0.85582\n",
      "4576/4576 [==============================] - 216s 47ms/step - loss: 0.3316 - acc: 0.8576 - val_loss: 0.3375 - val_acc: 0.8550\n",
      "Epoch 26/60\n",
      "4575/4576 [============================>.] - ETA: 0s - loss: 0.3304 - acc: 0.8589Epoch 1/60\n",
      " 509/4576 [==>...........................] - ETA: 1:05 - loss: 0.3406 - acc: 0.8554\n",
      "Epoch 00026: val_acc did not improve from 0.85582\n",
      "4576/4576 [==============================] - 192s 42ms/step - loss: 0.3304 - acc: 0.8589 - val_loss: 0.3406 - val_acc: 0.8554\n",
      "Epoch 27/60\n",
      "4574/4576 [============================>.] - ETA: 0s - loss: 0.3300 - acc: 0.8607-Epoch 1/60\n",
      " 507/4576 [==>...........................] - ETA: 1:05 - loss: 0.3417 - acc: 0.8523\n",
      "Epoch 00027: val_acc did not improve from 0.85582\n",
      "\n",
      "Epoch 00027: ReduceLROnPlateau reducing learning rate to 1e-05.\n",
      "4576/4576 [==============================] - 227s 50ms/step - loss: 0.3300 - acc: 0.8607 - val_loss: 0.3412 - val_acc: 0.8525\n",
      "Epoch 28/60\n",
      "4575/4576 [============================>.] - ETA: 0s - loss: 0.3290 - acc: 0.8603Epoch 1/60\n",
      " 508/4576 [==>...........................] - ETA: 1:29 - loss: 0.3389 - acc: 0.8524\n",
      "Epoch 00028: val_acc did not improve from 0.85582\n",
      "4576/4576 [==============================] - 216s 47ms/step - loss: 0.3289 - acc: 0.8603 - val_loss: 0.3385 - val_acc: 0.8525\n",
      "Epoch 29/60\n",
      "4575/4576 [============================>.] - ETA: 0s - loss: 0.3282 - acc: 0.8615Epoch 1/60\n",
      " 506/4576 [==>...........................] - ETA: 1:16 - loss: 0.3397 - acc: 0.8551\n",
      "Epoch 00029: val_acc did not improve from 0.85582\n",
      "4576/4576 [==============================] - 210s 46ms/step - loss: 0.3281 - acc: 0.8616 - val_loss: 0.3405 - val_acc: 0.8546\n",
      "Epoch 30/60\n",
      "4575/4576 [============================>.] - ETA: 0s - loss: 0.3278 - acc: 0.8596Epoch 1/60\n",
      " 509/4576 [==>...........................] - ETA: 1:08 - loss: 0.3361 - acc: 0.8564\n",
      "Epoch 00030: val_acc improved from 0.85582 to 0.85641, saving model to model.h5\n",
      "4576/4576 [==============================] - 231s 50ms/step - loss: 0.3279 - acc: 0.8595 - val_loss: 0.3361 - val_acc: 0.8564\n",
      "Epoch 31/60\n",
      "4574/4576 [============================>.] - ETA: 0s - loss: 0.3286 - acc: 0.8594Epoch 1/60\n",
      " 506/4576 [==>...........................] - ETA: 1:07 - loss: 0.3394 - acc: 0.8571- ETA: 1:09 - loss:\n",
      "Epoch 00031: val_acc did not improve from 0.85641\n",
      "4576/4576 [==============================] - 212s 46ms/step - loss: 0.3286 - acc: 0.8594 - val_loss: 0.3401 - val_acc: 0.8564\n",
      "Epoch 32/60\n",
      "4574/4576 [============================>.] - ETA: 0s - loss: 0.3274 - acc: 0.8604Epoch 1/60\n",
      " 507/4576 [==>...........................] - ETA: 1:14 - loss: 0.3442 - acc: 0.8495\n",
      "Epoch 00032: val_acc did not improve from 0.85641\n",
      "4576/4576 [==============================] - 230s 50ms/step - loss: 0.3274 - acc: 0.8604 - val_loss: 0.3437 - val_acc: 0.8497\n",
      "Epoch 33/60\n",
      "4574/4576 [============================>.] - ETA: 0s - loss: 0.3270 - acc: 0.8620Epoch 1/60\n",
      " 507/4576 [==>...........................] - ETA: 1:07 - loss: 0.3393 - acc: 0.8554\n",
      "Epoch 00033: val_acc did not improve from 0.85641\n",
      "4576/4576 [==============================] - 213s 47ms/step - loss: 0.3272 - acc: 0.8619 - val_loss: 0.3388 - val_acc: 0.8556\n",
      "Epoch 34/60\n",
      "4574/4576 [============================>.] - ETA: 0s - loss: 0.3272 - acc: 0.8607- ETA: 3s - loss: - ETA: 2s Epoch 1/60\n",
      " 509/4576 [==>...........................] - ETA: 1:19 - loss: 0.3365 - acc: 0.8497\n",
      "Epoch 00034: val_acc did not improve from 0.85641\n",
      "4576/4576 [==============================] - 228s 50ms/step - loss: 0.3272 - acc: 0.8607 - val_loss: 0.3365 - val_acc: 0.8497\n",
      "Epoch 35/60\n",
      "4575/4576 [============================>.] - ETA: 0s - loss: 0.3272 - acc: 0.8612Epoch 1/60\n",
      " 509/4576 [==>...........................] - ETA: 1:29 - loss: 0.3468 - acc: 0.8519- ETA: 1:33 - loss: 0.3475 - acc: 0 - ETA: 1:33 - loss\n",
      "Epoch 00035: val_acc did not improve from 0.85641\n",
      "4576/4576 [==============================] - 219s 48ms/step - loss: 0.3272 - acc: 0.8612 - val_loss: 0.3468 - val_acc: 0.8519\n",
      "Epoch 36/60\n",
      "4574/4576 [============================>.] - ETA: 0s - loss: 0.3258 - acc: 0.8618Epoch 1/60\n",
      " 506/4576 [==>...........................] - ETA: 1:15 - loss: 0.3373 - acc: 0.8545- ETA: 1:16 - loss: 0.3377 - ac\n",
      "Epoch 00036: val_acc did not improve from 0.85641\n",
      "4576/4576 [==============================] - 200s 44ms/step - loss: 0.3258 - acc: 0.8618 - val_loss: 0.3383 - val_acc: 0.8537\n",
      "Epoch 37/60\n",
      "4574/4576 [============================>.] - ETA: 0s - loss: 0.3246 - acc: 0.8619Epoch 1/60\n",
      " 507/4576 [==>...........................] - ETA: 1:19 - loss: 0.3401 - acc: 0.8560\n",
      "Epoch 00037: val_acc did not improve from 0.85641\n",
      "4576/4576 [==============================] - 206s 45ms/step - loss: 0.3247 - acc: 0.8619 - val_loss: 0.3396 - val_acc: 0.8562\n",
      "Epoch 38/60\n",
      "4574/4576 [============================>.] - ETA: 0s - loss: 0.3249 - acc: 0.8615Epoch 1/60\n",
      " 509/4576 [==>...........................] - ETA: 1:06 - loss: 0.3351 - acc: 0.8580\n",
      "Epoch 00038: val_acc improved from 0.85641 to 0.85799, saving model to model.h5\n",
      "4576/4576 [==============================] - 198s 43ms/step - loss: 0.3249 - acc: 0.8615 - val_loss: 0.3351 - val_acc: 0.8580\n",
      "Epoch 39/60\n",
      "4575/4576 [============================>.] - ETA: 0s - loss: 0.3247 - acc: 0.8627Epoch 1/60\n",
      " 506/4576 [==>...........................] - ETA: 1:14 - loss: 0.3347 - acc: 0.8585\n",
      "Epoch 00039: val_acc did not improve from 0.85799\n",
      "4576/4576 [==============================] - 212s 46ms/step - loss: 0.3247 - acc: 0.8627 - val_loss: 0.3357 - val_acc: 0.8576\n",
      "Epoch 40/60\n",
      "4574/4576 [============================>.] - ETA: 0s - loss: 0.3253 - acc: 0.8617Epoch 1/60\n",
      " 507/4576 [==>...........................] - ETA: 1:25 - loss: 0.3412 - acc: 0.8536\n",
      "Epoch 00040: val_acc did not improve from 0.85799\n",
      "4576/4576 [==============================] - 198s 43ms/step - loss: 0.3252 - acc: 0.8617 - val_loss: 0.3408 - val_acc: 0.8539\n",
      "Epoch 41/60\n",
      "4575/4576 [============================>.] - ETA: 0s - loss: 0.3245 - acc: 0.8631Epoch 1/60\n",
      " 506/4576 [==>...........................] - ETA: 1:08 - loss: 0.3374 - acc: 0.8567\n",
      "Epoch 00041: val_acc did not improve from 0.85799\n",
      "4576/4576 [==============================] - 211s 46ms/step - loss: 0.3244 - acc: 0.8631 - val_loss: 0.3383 - val_acc: 0.8560\n",
      "Epoch 42/60\n",
      "4575/4576 [============================>.] - ETA: 0s - loss: 0.3247 - acc: 0.8611Epoch 1/60\n",
      " 507/4576 [==>...........................] - ETA: 1:09 - loss: 0.3412 - acc: 0.8546\n",
      "Epoch 00042: val_acc did not improve from 0.85799\n",
      "4576/4576 [==============================] - 212s 46ms/step - loss: 0.3247 - acc: 0.8612 - val_loss: 0.3406 - val_acc: 0.8548\n",
      "Epoch 43/60\n",
      "4574/4576 [============================>.] - ETA: 0s - loss: 0.3230 - acc: 0.8622Epoch 1/60\n",
      " 508/4576 [==>...........................] - ETA: 1:07 - loss: 0.3383 - acc: 0.8512\n",
      "Epoch 00043: val_acc did not improve from 0.85799\n",
      "4576/4576 [==============================] - 198s 43ms/step - loss: 0.3230 - acc: 0.8622 - val_loss: 0.3379 - val_acc: 0.8513\n",
      "Epoch 44/60\n",
      "4575/4576 [============================>.] - ETA: 0s - loss: 0.3238 - acc: 0.8629Epoch 1/60\n",
      " 508/4576 [==>...........................] - ETA: 1:30 - loss: 0.3401 - acc: 0.8551\n",
      "Epoch 00044: val_acc did not improve from 0.85799\n",
      "4576/4576 [==============================] - 203s 44ms/step - loss: 0.3238 - acc: 0.8629 - val_loss: 0.3396 - val_acc: 0.8552\n",
      "Epoch 45/60\n",
      "4574/4576 [============================>.] - ETA: 0s - loss: 0.3235 - acc: 0.8624Epoch 1/60\n",
      " 508/4576 [==>...........................] - ETA: 1:08 - loss: 0.3367 - acc: 0.8549\n",
      "Epoch 00045: val_acc did not improve from 0.85799\n",
      "4576/4576 [==============================] - 208s 45ms/step - loss: 0.3234 - acc: 0.8625 - val_loss: 0.3364 - val_acc: 0.8550\n",
      "Epoch 46/60\n",
      "4574/4576 [============================>.] - ETA: 0s - loss: 0.3239 - acc: 0.8613Epoch 1/60\n",
      " 507/4576 [==>...........................] - ETA: 1:06 - loss: 0.3334 - acc: 0.8590\n",
      "Epoch 00046: val_acc improved from 0.85799 to 0.85917, saving model to model.h5\n",
      "4576/4576 [==============================] - 193s 42ms/step - loss: 0.3238 - acc: 0.8614 - val_loss: 0.3331 - val_acc: 0.8592\n",
      "Epoch 47/60\n",
      "4575/4576 [============================>.] - ETA: 0s - loss: 0.3221 - acc: 0.8631Epoch 1/60\n",
      " 508/4576 [==>...........................] - ETA: 1:05 - loss: 0.3361 - acc: 0.8577\n",
      "Epoch 00047: val_acc did not improve from 0.85917\n",
      "4576/4576 [==============================] - 217s 47ms/step - loss: 0.3220 - acc: 0.8632 - val_loss: 0.3358 - val_acc: 0.8578\n",
      "Epoch 48/60\n",
      "4574/4576 [============================>.] - ETA: 0s - loss: 0.3243 - acc: 0.8635Epoch 1/60\n",
      " 507/4576 [==>...........................] - ETA: 1:28 - loss: 0.3419 - acc: 0.8544\n",
      "Epoch 00048: val_acc did not improve from 0.85917\n",
      "4576/4576 [==============================] - 199s 44ms/step - loss: 0.3242 - acc: 0.8636 - val_loss: 0.3415 - val_acc: 0.8546\n",
      "Epoch 49/60\n",
      "4575/4576 [============================>.] - ETA: 0s - loss: 0.3197 - acc: 0.8638Epoch 1/60\n",
      " 507/4576 [==>...........................] - ETA: 1:26 - loss: 0.3331 - acc: 0.8580\n",
      "Epoch 00049: val_acc did not improve from 0.85917\n",
      "4576/4576 [==============================] - 193s 42ms/step - loss: 0.3197 - acc: 0.8638 - val_loss: 0.3327 - val_acc: 0.8582\n",
      "Epoch 50/60\n",
      "4575/4576 [============================>.] - ETA: 0s - loss: 0.3215 - acc: 0.8620Epoch 1/60\n",
      " 509/4576 [==>...........................] - ETA: 1:07 - loss: 0.3342 - acc: 0.8572\n",
      "Epoch 00050: val_acc did not improve from 0.85917\n",
      "4576/4576 [==============================] - 205s 45ms/step - loss: 0.3216 - acc: 0.8619 - val_loss: 0.3342 - val_acc: 0.8572\n",
      "Epoch 51/60\n",
      "4575/4576 [============================>.] - ETA: 0s - loss: 0.3226 - acc: 0.8635Epoch 1/60\n",
      " 506/4576 [==>...........................] - ETA: 1:28 - loss: 0.3437 - acc: 0.8545\n",
      "Epoch 00051: val_acc did not improve from 0.85917\n",
      "4576/4576 [==============================] - 220s 48ms/step - loss: 0.3227 - acc: 0.8634 - val_loss: 0.3449 - val_acc: 0.8541\n",
      "Epoch 52/60\n",
      "4575/4576 [============================>.] - ETA: 0s - loss: 0.3202 - acc: 0.8645Epoch 1/60\n",
      " 509/4576 [==>...........................] - ETA: 1:32 - loss: 0.3337 - acc: 0.8539\n",
      "Epoch 00052: val_acc did not improve from 0.85917\n",
      "4576/4576 [==============================] - 196s 43ms/step - loss: 0.3202 - acc: 0.8645 - val_loss: 0.3337 - val_acc: 0.8539\n",
      "Epoch 53/60\n",
      "4575/4576 [============================>.] - ETA: 0s - loss: 0.3196 - acc: 0.8640Epoch 1/60\n",
      " 508/4576 [==>...........................] - ETA: 1:07 - loss: 0.3330 - acc: 0.8579- \n",
      "Epoch 00053: val_acc did not improve from 0.85917\n",
      "4576/4576 [==============================] - 198s 43ms/step - loss: 0.3196 - acc: 0.8640 - val_loss: 0.3325 - val_acc: 0.8580\n",
      "Epoch 54/60\n",
      "4574/4576 [============================>.] - ETA: 0s - loss: 0.3205 - acc: 0.8629Epoch 1/60\n",
      " 507/4576 [==>...........................] - ETA: 1:27 - loss: 0.3317 - acc: 0.8592\n",
      "Epoch 00054: val_acc improved from 0.85917 to 0.85936, saving model to model.h5\n",
      "4576/4576 [==============================] - 206s 45ms/step - loss: 0.3206 - acc: 0.8628 - val_loss: 0.3313 - val_acc: 0.8594\n",
      "Epoch 55/60\n",
      "4575/4576 [============================>.] - ETA: 0s - loss: 0.3215 - acc: 0.8642Epoch 1/60\n",
      " 509/4576 [==>...........................] - ETA: 1:33 - loss: 0.3345 - acc: 0.8544\n",
      "Epoch 00055: val_acc did not improve from 0.85936\n",
      "4576/4576 [==============================] - 210s 46ms/step - loss: 0.3215 - acc: 0.8642 - val_loss: 0.3345 - val_acc: 0.8544\n",
      "Epoch 56/60\n",
      "4575/4576 [============================>.] - ETA: 0s - loss: 0.3205 - acc: 0.8636Epoch 1/60\n",
      " 508/4576 [==>...........................] - ETA: 1:28 - loss: 0.3334 - acc: 0.8567\n",
      "Epoch 00056: val_acc did not improve from 0.85936\n",
      "4576/4576 [==============================] - 219s 48ms/step - loss: 0.3205 - acc: 0.8636 - val_loss: 0.3331 - val_acc: 0.8568\n",
      "Epoch 57/60\n",
      "4575/4576 [============================>.] - ETA: 0s - loss: 0.3210 - acc: 0.8635- ETA: 1s -Epoch 1/60\n",
      " 508/4576 [==>...........................] - ETA: 1:44 - loss: 0.3328 - acc: 0.8561\n",
      "Epoch 00057: val_acc did not improve from 0.85936\n",
      "4576/4576 [==============================] - 215s 47ms/step - loss: 0.3210 - acc: 0.8635 - val_loss: 0.3324 - val_acc: 0.8562\n",
      "Epoch 58/60\n",
      "4574/4576 [============================>.] - ETA: 0s - loss: 0.3195 - acc: 0.8628Epoch 1/60\n",
      " 507/4576 [==>...........................] - ETA: 1:05 - loss: 0.3326 - acc: 0.8582- ETA: 1:07 - loss: 0 - ETA: 1:06 - loss: 0.3310 - acc: 0.\n",
      "Epoch 00058: val_acc did not improve from 0.85936\n",
      "4576/4576 [==============================] - 211s 46ms/step - loss: 0.3195 - acc: 0.8627 - val_loss: 0.3321 - val_acc: 0.8584\n",
      "Epoch 59/60\n",
      "4574/4576 [============================>.] - ETA: 0s - loss: 0.3206 - acc: 0.8630Epoch 1/60\n",
      " 508/4576 [==>...........................] - ETA: 1:34 - loss: 0.3363 - acc: 0.8549\n",
      "Epoch 00059: val_acc did not improve from 0.85936\n",
      "4576/4576 [==============================] - 234s 51ms/step - loss: 0.3206 - acc: 0.8629 - val_loss: 0.3357 - val_acc: 0.8550\n",
      "Epoch 60/60\n",
      "4575/4576 [============================>.] - ETA: 0s - loss: 0.3190 - acc: 0.8637Epoch 1/60\n",
      " 506/4576 [==>...........................] - ETA: 1:31 - loss: 0.3378 - acc: 0.8577\n",
      "Epoch 00060: val_acc did not improve from 0.85936\n",
      "4576/4576 [==============================] - 199s 44ms/step - loss: 0.3190 - acc: 0.8638 - val_loss: 0.3385 - val_acc: 0.8572\n"
     ]
    }
   ],
   "source": [
    "filepath = \"model.h5\"\n",
    "checkpoint = ModelCheckpoint(filepath, monitor='val_acc', verbose=1, \n",
    "                             save_best_only=True, mode='max')\n",
    "\n",
    "reduce_lr = ReduceLROnPlateau(monitor='val_acc', factor=0.5, patience=3, \n",
    "                                   verbose=1, mode='max', min_lr=0.00001)\n",
    "                              \n",
    "                              \n",
    "callbacks_list = [checkpoint, reduce_lr]\n",
    "\n",
    "history = model.fit_generator(train_gen, steps_per_epoch=train_steps, \n",
    "                    validation_data=val_gen,\n",
    "                    validation_steps=val_steps,\n",
    "                    epochs=60, verbose=1,\n",
    "                   callbacks=callbacks_list)"
   ]
  },
  {
   "cell_type": "code",
   "execution_count": 54,
   "metadata": {},
   "outputs": [
    {
     "data": {
      "text/plain": [
       "['loss', 'acc']"
      ]
     },
     "execution_count": 54,
     "metadata": {},
     "output_type": "execute_result"
    }
   ],
   "source": [
    "# get the metric names so we can use evaulate_generator\n",
    "model.metrics_names"
   ]
  },
  {
   "cell_type": "code",
   "execution_count": 36,
   "metadata": {},
   "outputs": [
    {
     "name": "stdout",
     "output_type": "stream",
     "text": [
      "val_loss: 0.3344510621098653\n",
      "val_acc: 0.8552321\n"
     ]
    }
   ],
   "source": [
    "# Here the best epoch will be used.\n",
    "\n",
    "model.load_weights('model.h5')\n",
    "\n",
    "val_loss, val_acc = \\\n",
    "model.evaluate_generator(test_gen, \n",
    "                        steps=len(df_val))\n",
    "\n",
    "print('val_loss:', val_loss)\n",
    "print('val_acc:', val_acc)"
   ]
  },
  {
   "cell_type": "code",
   "execution_count": 37,
   "metadata": {},
   "outputs": [
    {
     "data": {
      "text/plain": [
       "<Figure size 432x288 with 0 Axes>"
      ]
     },
     "execution_count": 37,
     "metadata": {},
     "output_type": "execute_result"
    },
    {
     "data": {
      "image/png": "[encoded data removed]",
      "text/plain": [
       "<Figure size 432x288 with 1 Axes>"
      ]
     },
     "metadata": {
      "needs_background": "light"
     },
     "output_type": "display_data"
    },
    {
     "data": {
      "image/png": "[encoded data removed]",
      "text/plain": [
       "<Figure size 432x288 with 1 Axes>"
      ]
     },
     "metadata": {
      "needs_background": "light"
     },
     "output_type": "display_data"
    },
    {
     "data": {
      "text/plain": [
       "<Figure size 432x288 with 0 Axes>"
      ]
     },
     "metadata": {},
     "output_type": "display_data"
    }
   ],
   "source": [
    "# display the loss and accuracy curves\n",
    "\n",
    "import matplotlib.pyplot as plt\n",
    "\n",
    "acc = history.history['acc']\n",
    "val_acc = history.history['val_acc']\n",
    "loss = history.history['loss']\n",
    "val_loss = history.history['val_loss']\n",
    "\n",
    "epochs = range(1, len(acc) + 1)\n",
    "\n",
    "plt.plot(epochs, loss, 'bo', label='Training loss')\n",
    "plt.plot(epochs, val_loss, 'b', label='Validation loss')\n",
    "plt.title('Training and validation loss')\n",
    "plt.legend()\n",
    "plt.figure()\n",
    "\n",
    "plt.plot(epochs, acc, 'bo', label='Training acc')\n",
    "plt.plot(epochs, val_acc, 'b', label='Validation acc')\n",
    "plt.title('Training and validation accuracy')\n",
    "plt.legend()\n",
    "plt.figure()"
   ]
  },
  {
   "cell_type": "code",
   "execution_count": 38,
   "metadata": {},
   "outputs": [
    {
     "name": "stdout",
     "output_type": "stream",
     "text": [
      "5084/5084 [==============================] - 15s 3ms/step\n"
     ]
    }
   ],
   "source": [
    "# make a prediction\n",
    "predictions = model.predict_generator(test_gen, steps=len(df_val), verbose=1)"
   ]
  },
  {
   "cell_type": "code",
   "execution_count": 39,
   "metadata": {},
   "outputs": [
    {
     "data": {
      "text/plain": [
       "(5084, 2)"
      ]
     },
     "execution_count": 39,
     "metadata": {},
     "output_type": "execute_result"
    }
   ],
   "source": [
    "predictions.shape"
   ]
  },
  {
   "cell_type": "code",
   "execution_count": 40,
   "metadata": {},
   "outputs": [
    {
     "data": {
      "text/plain": [
       "{'a_no_idc': 0, 'b_has_idc': 1}"
      ]
     },
     "execution_count": 40,
     "metadata": {},
     "output_type": "execute_result"
    }
   ],
   "source": [
    "# This is how to check what index keras has internally assigned to each class. \n",
    "test_gen.class_indices"
   ]
  },
  {
   "cell_type": "code",
   "execution_count": 41,
   "metadata": {},
   "outputs": [
    {
     "data": {
      "text/html": [
       "<div>\n",
       "<style scoped>\n",
       "    .dataframe tbody tr th:only-of-type {\n",
       "        vertical-align: middle;\n",
       "    }\n",
       "\n",
       "    .dataframe tbody tr th {\n",
       "        vertical-align: top;\n",
       "    }\n",
       "\n",
       "    .dataframe thead th {\n",
       "        text-align: right;\n",
       "    }\n",
       "</style>\n",
       "<table border=\"1\" class=\"dataframe\">\n",
       "  <thead>\n",
       "    <tr style=\"text-align: right;\">\n",
       "      <th></th>\n",
       "      <th>no_idc</th>\n",
       "      <th>has_idc</th>\n",
       "    </tr>\n",
       "  </thead>\n",
       "  <tbody>\n",
       "    <tr>\n",
       "      <td>0</td>\n",
       "      <td>0.461920</td>\n",
       "      <td>0.538080</td>\n",
       "    </tr>\n",
       "    <tr>\n",
       "      <td>1</td>\n",
       "      <td>0.996790</td>\n",
       "      <td>0.003210</td>\n",
       "    </tr>\n",
       "    <tr>\n",
       "      <td>2</td>\n",
       "      <td>0.986469</td>\n",
       "      <td>0.013531</td>\n",
       "    </tr>\n",
       "    <tr>\n",
       "      <td>3</td>\n",
       "      <td>0.866973</td>\n",
       "      <td>0.133027</td>\n",
       "    </tr>\n",
       "    <tr>\n",
       "      <td>4</td>\n",
       "      <td>0.960875</td>\n",
       "      <td>0.039125</td>\n",
       "    </tr>\n",
       "  </tbody>\n",
       "</table>\n",
       "</div>"
      ],
      "text/plain": [
       "     no_idc   has_idc\n",
       "0  0.461920  0.538080\n",
       "1  0.996790  0.003210\n",
       "2  0.986469  0.013531\n",
       "3  0.866973  0.133027\n",
       "4  0.960875  0.039125"
      ]
     },
     "execution_count": 41,
     "metadata": {},
     "output_type": "execute_result"
    }
   ],
   "source": [
    "# Put the predictions into a dataframe.\n",
    "# The columns need to be oredered to match the output of the previous cell\n",
    "\n",
    "df_preds = pd.DataFrame(predictions, columns=['no_idc', 'has_idc'])\n",
    "\n",
    "df_preds.head()"
   ]
  },
  {
   "cell_type": "code",
   "execution_count": 42,
   "metadata": {},
   "outputs": [],
   "source": [
    "# Get the true labels\n",
    "y_true = test_gen.classes\n",
    "\n",
    "# Get the predicted labels as probabilities\n",
    "y_pred = df_preds['has_idc']"
   ]
  },
  {
   "cell_type": "code",
   "execution_count": 43,
   "metadata": {},
   "outputs": [
    {
     "data": {
      "text/plain": [
       "0.9318093325599635"
      ]
     },
     "execution_count": 43,
     "metadata": {},
     "output_type": "execute_result"
    }
   ],
   "source": [
    "from sklearn.metrics import roc_auc_score\n",
    "\n",
    "roc_auc_score(y_true, y_pred)"
   ]
  },
  {
   "cell_type": "code",
   "execution_count": 44,
   "metadata": {},
   "outputs": [],
   "source": [
    "# Get the labels of the test images.\n",
    "\n",
    "test_labels = test_gen.classes"
   ]
  },
  {
   "cell_type": "code",
   "execution_count": 45,
   "metadata": {},
   "outputs": [
    {
     "data": {
      "text/plain": [
       "(5084,)"
      ]
     },
     "execution_count": 45,
     "metadata": {},
     "output_type": "execute_result"
    }
   ],
   "source": [
    "test_labels.shape"
   ]
  },
  {
   "cell_type": "code",
   "execution_count": 46,
   "metadata": {},
   "outputs": [],
   "source": [
    "# argmax returns the index of the max value in a row\n",
    "cm = confusion_matrix(test_labels, predictions.argmax(axis=1))"
   ]
  },
  {
   "cell_type": "code",
   "execution_count": 47,
   "metadata": {},
   "outputs": [
    {
     "data": {
      "text/plain": [
       "{'a_no_idc': 0, 'b_has_idc': 1}"
      ]
     },
     "execution_count": 47,
     "metadata": {},
     "output_type": "execute_result"
    }
   ],
   "source": [
    "# Print the label associated with each class\n",
    "test_gen.class_indices"
   ]
  },
  {
   "cell_type": "code",
   "execution_count": 55,
   "metadata": {},
   "outputs": [],
   "source": [
    "# Define the labels of the class indices. These need to match the \n",
    "# order shown above.\n",
    "cm_plot_labels = ['no_idc', 'has_idc']"
   ]
  },
  {
   "cell_type": "code",
   "execution_count": 56,
   "metadata": {},
   "outputs": [
    {
     "name": "stdout",
     "output_type": "stream",
     "text": [
      "              precision    recall  f1-score   support\n",
      "\n",
      "      no_idc       0.86      0.85      0.86      2542\n",
      "     has_idc       0.85      0.87      0.86      2542\n",
      "\n",
      "    accuracy                           0.86      5084\n",
      "   macro avg       0.86      0.86      0.86      5084\n",
      "weighted avg       0.86      0.86      0.86      5084\n",
      "\n"
     ]
    }
   ],
   "source": [
    "from sklearn.metrics import classification_report\n",
    "\n",
    "# Generate a classification report\n",
    "\n",
    "# For this to work we need y_pred as binary labels not as probabilities\n",
    "y_pred_binary = predictions.argmax(axis=1)\n",
    "\n",
    "report = classification_report(y_true, y_pred_binary, target_names=cm_plot_labels)\n",
    "\n",
    "print(report)"
   ]
  },
  {
   "cell_type": "code",
   "execution_count": 60,
   "metadata": {},
   "outputs": [
    {
     "name": "stdout",
     "output_type": "stream",
     "text": [
      "dict_keys(['loss', 'acc', 'val_loss', 'val_acc', 'lr'])\n"
     ]
    },
    {
     "data": {
      "image/png": "[encoded data removed]",
      "text/plain": [
       "<Figure size 432x288 with 1 Axes>"
      ]
     },
     "metadata": {
      "needs_background": "light"
     },
     "output_type": "display_data"
    },
    {
     "data": {
      "image/png": "[encoded data removed]",
      "text/plain": [
       "<Figure size 432x288 with 1 Axes>"
      ]
     },
     "metadata": {
      "needs_background": "light"
     },
     "output_type": "display_data"
    }
   ],
   "source": [
    "# list all data in history\n",
    "print(history.history.keys())\n",
    "# summarize history for accuracy\n",
    "plt.plot(history.history['acc'])\n",
    "plt.plot(history.history['val_acc'])\n",
    "plt.title('model accuracy')\n",
    "plt.ylabel('accuracy')\n",
    "plt.xlabel('epoch')\n",
    "plt.legend(['train', 'test'], loc='upper left')\n",
    "plt.show()\n",
    "# summarize history for loss\n",
    "plt.plot(history.history['loss'])\n",
    "plt.plot(history.history['val_loss'])\n",
    "plt.title('model loss')\n",
    "plt.ylabel('loss')\n",
    "plt.xlabel('epoch')\n",
    "plt.legend(['train', 'test'], loc='upper left')\n",
    "plt.show()"
   ]
  },
  {
   "cell_type": "code",
   "execution_count": null,
   "metadata": {},
   "outputs": [],
   "source": []
  }
 ],
 "metadata": {
  "kernelspec": {
   "display_name": "Python 3",
   "language": "python",
   "name": "python3"
  },
  "language_info": {
   "codemirror_mode": {
    "name": "ipython",
    "version": 3
   },
   "file_extension": ".py",
   "mimetype": "text/x-python",
   "name": "python",
   "nbconvert_exporter": "python",
   "pygments_lexer": "ipython3",
   "version": "3.7.1"
  }
 },
 "nbformat": 4,
 "nbformat_minor": 2
}
